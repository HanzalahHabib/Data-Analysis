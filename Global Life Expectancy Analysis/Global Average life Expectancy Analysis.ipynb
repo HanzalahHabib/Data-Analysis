{
 "cells": [
  {
   "cell_type": "code",
   "execution_count": 1,
   "id": "87231cd2-7b77-4b68-ad68-12ea6f579e6a",
   "metadata": {},
   "outputs": [],
   "source": [
    "import pandas as pd"
   ]
  },
  {
   "cell_type": "code",
   "execution_count": 3,
   "id": "9784f168-da7a-49c1-909b-734297468936",
   "metadata": {},
   "outputs": [],
   "source": [
    "data = pd.read_csv(\"country_data.csv\")"
   ]
  },
  {
   "cell_type": "code",
   "execution_count": 5,
   "id": "b9c2e1d8-947f-455d-84e7-ddbcac717bd8",
   "metadata": {},
   "outputs": [
    {
     "data": {
      "text/html": [
       "<div>\n",
       "<style scoped>\n",
       "    .dataframe tbody tr th:only-of-type {\n",
       "        vertical-align: middle;\n",
       "    }\n",
       "\n",
       "    .dataframe tbody tr th {\n",
       "        vertical-align: top;\n",
       "    }\n",
       "\n",
       "    .dataframe thead th {\n",
       "        text-align: right;\n",
       "    }\n",
       "</style>\n",
       "<table border=\"1\" class=\"dataframe\">\n",
       "  <thead>\n",
       "    <tr style=\"text-align: right;\">\n",
       "      <th></th>\n",
       "      <th>Country</th>\n",
       "      <th>Life Expectancy</th>\n",
       "      <th>GDP</th>\n",
       "    </tr>\n",
       "  </thead>\n",
       "  <tbody>\n",
       "    <tr>\n",
       "      <th>0</th>\n",
       "      <td>Afghanistan</td>\n",
       "      <td>58.19375</td>\n",
       "      <td>340.015425</td>\n",
       "    </tr>\n",
       "    <tr>\n",
       "      <th>1</th>\n",
       "      <td>Albania</td>\n",
       "      <td>75.15625</td>\n",
       "      <td>2119.726679</td>\n",
       "    </tr>\n",
       "    <tr>\n",
       "      <th>2</th>\n",
       "      <td>Algeria</td>\n",
       "      <td>73.61875</td>\n",
       "      <td>2847.853392</td>\n",
       "    </tr>\n",
       "    <tr>\n",
       "      <th>3</th>\n",
       "      <td>Angola</td>\n",
       "      <td>49.01875</td>\n",
       "      <td>1975.143045</td>\n",
       "    </tr>\n",
       "    <tr>\n",
       "      <th>4</th>\n",
       "      <td>Antigua and Barbuda</td>\n",
       "      <td>75.05625</td>\n",
       "      <td>9759.305728</td>\n",
       "    </tr>\n",
       "  </tbody>\n",
       "</table>\n",
       "</div>"
      ],
      "text/plain": [
       "               Country  Life Expectancy          GDP\n",
       "0          Afghanistan         58.19375   340.015425\n",
       "1              Albania         75.15625  2119.726679\n",
       "2              Algeria         73.61875  2847.853392\n",
       "3               Angola         49.01875  1975.143045\n",
       "4  Antigua and Barbuda         75.05625  9759.305728"
      ]
     },
     "execution_count": 5,
     "metadata": {},
     "output_type": "execute_result"
    }
   ],
   "source": [
    "data.head()"
   ]
  },
  {
   "cell_type": "code",
   "execution_count": 7,
   "id": "5d34ee52-2de5-489b-912b-2d521bd08a9b",
   "metadata": {},
   "outputs": [],
   "source": [
    "life_expectancy = data[\"Life Expectancy\"]"
   ]
  },
  {
   "cell_type": "code",
   "execution_count": 9,
   "id": "fe184866-7078-4cc8-9b31-e31c70b15f45",
   "metadata": {},
   "outputs": [
    {
     "data": {
      "text/plain": [
       "0      58.19375\n",
       "1      75.15625\n",
       "2      73.61875\n",
       "3      49.01875\n",
       "4      75.05625\n",
       "         ...   \n",
       "153    76.07500\n",
       "154    68.03125\n",
       "155    71.38750\n",
       "156    53.90625\n",
       "157    50.48750\n",
       "Name: Life Expectancy, Length: 158, dtype: float64"
      ]
     },
     "execution_count": 9,
     "metadata": {},
     "output_type": "execute_result"
    }
   ],
   "source": [
    "life_expectancy"
   ]
  },
  {
   "cell_type": "code",
   "execution_count": 11,
   "id": "ecc085e0-efeb-4cf5-8b51-2d7cad285ca6",
   "metadata": {},
   "outputs": [],
   "source": [
    "import numpy as np"
   ]
  },
  {
   "cell_type": "code",
   "execution_count": 13,
   "id": "9f96998a-d9ee-40c9-9ab3-0a07c5a10161",
   "metadata": {},
   "outputs": [],
   "source": [
    "life_expectancy_quartiles = np.quantile(life_expectancy, [0.25, 0.5, 0.75])"
   ]
  },
  {
   "cell_type": "code",
   "execution_count": 15,
   "id": "f09cb064-4cb7-45fa-bbe4-be543c84ac76",
   "metadata": {},
   "outputs": [
    {
     "data": {
      "text/plain": [
       "array([62.325    , 72.525    , 75.4421875])"
      ]
     },
     "execution_count": 15,
     "metadata": {},
     "output_type": "execute_result"
    }
   ],
   "source": [
    "life_expectancy_quartiles"
   ]
  },
  {
   "cell_type": "code",
   "execution_count": 17,
   "id": "408719e0-5387-4265-96f0-a8759cf2b0bb",
   "metadata": {},
   "outputs": [],
   "source": [
    "import matplotlib.pyplot as plt"
   ]
  },
  {
   "cell_type": "code",
   "execution_count": 27,
   "id": "f1977b09-b170-44bd-84eb-30c8dcdab7ce",
   "metadata": {},
   "outputs": [
    {
     "data": {
      "image/png": "[encoded data removed]",
      "text/plain": [
       "<Figure size 640x480 with 1 Axes>"
      ]
     },
     "metadata": {},
     "output_type": "display_data"
    }
   ],
   "source": [
    "plt.hist(life_expectancy,color='grey')\n",
    "plt.title(\"Life Expectancy\")\n",
    "plt.xlabel(\"Life Expectancy (in Years)\")\n",
    "plt.ylabel(\"Number of Countries\")\n",
    "plt.show()"
   ]
  },
  {
   "cell_type": "code",
   "execution_count": 31,
   "id": "e762af65-45a8-4ee7-9d2a-f61362d32f76",
   "metadata": {},
   "outputs": [],
   "source": [
    "gdp = data[\"GDP\"]"
   ]
  },
  {
   "cell_type": "code",
   "execution_count": 33,
   "id": "8362fef4-6a06-448a-8040-f645c5ab0cb3",
   "metadata": {},
   "outputs": [
    {
     "data": {
      "text/plain": [
       "0       340.015425\n",
       "1      2119.726679\n",
       "2      2847.853392\n",
       "3      1975.143045\n",
       "4      9759.305728\n",
       "          ...     \n",
       "153    7192.584875\n",
       "154     651.092359\n",
       "155    2000.245518\n",
       "156     811.811841\n",
       "157     410.980194\n",
       "Name: GDP, Length: 158, dtype: float64"
      ]
     },
     "execution_count": 33,
     "metadata": {},
     "output_type": "execute_result"
    }
   ],
   "source": [
    "gdp"
   ]
  },
  {
   "cell_type": "code",
   "execution_count": 35,
   "id": "7bae9800-7467-4165-958a-a9d28884049f",
   "metadata": {},
   "outputs": [],
   "source": [
    "median_gdp = np.quantile(gdp, 0.5)"
   ]
  },
  {
   "cell_type": "code",
   "execution_count": 37,
   "id": "edcc20f7-a4b7-44d0-b3be-263117798651",
   "metadata": {},
   "outputs": [
    {
     "data": {
      "text/plain": [
       "2938.0781152500003"
      ]
     },
     "execution_count": 37,
     "metadata": {},
     "output_type": "execute_result"
    }
   ],
   "source": [
    "median_gdp"
   ]
  },
  {
   "cell_type": "code",
   "execution_count": 39,
   "id": "5826c918-5e2d-4fef-a159-ad961c7336c3",
   "metadata": {},
   "outputs": [],
   "source": [
    "low_gdp_countries = data[data[\"GDP\"] <= median_gdp]\n",
    "high_gdp_countries = data[data[\"GDP\"] > median_gdp]"
   ]
  },
  {
   "cell_type": "code",
   "execution_count": 41,
   "id": "d74b2143-f431-408d-bb12-e12d42038e0a",
   "metadata": {},
   "outputs": [
    {
     "data": {
      "text/html": [
       "<div>\n",
       "<style scoped>\n",
       "    .dataframe tbody tr th:only-of-type {\n",
       "        vertical-align: middle;\n",
       "    }\n",
       "\n",
       "    .dataframe tbody tr th {\n",
       "        vertical-align: top;\n",
       "    }\n",
       "\n",
       "    .dataframe thead th {\n",
       "        text-align: right;\n",
       "    }\n",
       "</style>\n",
       "<table border=\"1\" class=\"dataframe\">\n",
       "  <thead>\n",
       "    <tr style=\"text-align: right;\">\n",
       "      <th></th>\n",
       "      <th>Country</th>\n",
       "      <th>Life Expectancy</th>\n",
       "      <th>GDP</th>\n",
       "    </tr>\n",
       "  </thead>\n",
       "  <tbody>\n",
       "    <tr>\n",
       "      <th>0</th>\n",
       "      <td>Afghanistan</td>\n",
       "      <td>58.19375</td>\n",
       "      <td>340.015425</td>\n",
       "    </tr>\n",
       "    <tr>\n",
       "      <th>1</th>\n",
       "      <td>Albania</td>\n",
       "      <td>75.15625</td>\n",
       "      <td>2119.726679</td>\n",
       "    </tr>\n",
       "    <tr>\n",
       "      <th>2</th>\n",
       "      <td>Algeria</td>\n",
       "      <td>73.61875</td>\n",
       "      <td>2847.853392</td>\n",
       "    </tr>\n",
       "    <tr>\n",
       "      <th>3</th>\n",
       "      <td>Angola</td>\n",
       "      <td>49.01875</td>\n",
       "      <td>1975.143045</td>\n",
       "    </tr>\n",
       "    <tr>\n",
       "      <th>6</th>\n",
       "      <td>Armenia</td>\n",
       "      <td>73.40000</td>\n",
       "      <td>1999.986318</td>\n",
       "    </tr>\n",
       "    <tr>\n",
       "      <th>...</th>\n",
       "      <td>...</td>\n",
       "      <td>...</td>\n",
       "      <td>...</td>\n",
       "    </tr>\n",
       "    <tr>\n",
       "      <th>151</th>\n",
       "      <td>Ukraine</td>\n",
       "      <td>69.93750</td>\n",
       "      <td>1577.293329</td>\n",
       "    </tr>\n",
       "    <tr>\n",
       "      <th>154</th>\n",
       "      <td>Uzbekistan</td>\n",
       "      <td>68.03125</td>\n",
       "      <td>651.092359</td>\n",
       "    </tr>\n",
       "    <tr>\n",
       "      <th>155</th>\n",
       "      <td>Vanuatu</td>\n",
       "      <td>71.38750</td>\n",
       "      <td>2000.245518</td>\n",
       "    </tr>\n",
       "    <tr>\n",
       "      <th>156</th>\n",
       "      <td>Zambia</td>\n",
       "      <td>53.90625</td>\n",
       "      <td>811.811841</td>\n",
       "    </tr>\n",
       "    <tr>\n",
       "      <th>157</th>\n",
       "      <td>Zimbabwe</td>\n",
       "      <td>50.48750</td>\n",
       "      <td>410.980194</td>\n",
       "    </tr>\n",
       "  </tbody>\n",
       "</table>\n",
       "<p>79 rows × 3 columns</p>\n",
       "</div>"
      ],
      "text/plain": [
       "         Country  Life Expectancy          GDP\n",
       "0    Afghanistan         58.19375   340.015425\n",
       "1        Albania         75.15625  2119.726679\n",
       "2        Algeria         73.61875  2847.853392\n",
       "3         Angola         49.01875  1975.143045\n",
       "6        Armenia         73.40000  1999.986318\n",
       "..           ...              ...          ...\n",
       "151      Ukraine         69.93750  1577.293329\n",
       "154   Uzbekistan         68.03125   651.092359\n",
       "155      Vanuatu         71.38750  2000.245518\n",
       "156       Zambia         53.90625   811.811841\n",
       "157     Zimbabwe         50.48750   410.980194\n",
       "\n",
       "[79 rows x 3 columns]"
      ]
     },
     "execution_count": 41,
     "metadata": {},
     "output_type": "execute_result"
    }
   ],
   "source": [
    "low_gdp_countries"
   ]
  },
  {
   "cell_type": "code",
   "execution_count": 43,
   "id": "217e35ea-2817-49cb-8dbd-274f57c1c7a5",
   "metadata": {},
   "outputs": [
    {
     "data": {
      "text/html": [
       "<div>\n",
       "<style scoped>\n",
       "    .dataframe tbody tr th:only-of-type {\n",
       "        vertical-align: middle;\n",
       "    }\n",
       "\n",
       "    .dataframe tbody tr th {\n",
       "        vertical-align: top;\n",
       "    }\n",
       "\n",
       "    .dataframe thead th {\n",
       "        text-align: right;\n",
       "    }\n",
       "</style>\n",
       "<table border=\"1\" class=\"dataframe\">\n",
       "  <thead>\n",
       "    <tr style=\"text-align: right;\">\n",
       "      <th></th>\n",
       "      <th>Country</th>\n",
       "      <th>Life Expectancy</th>\n",
       "      <th>GDP</th>\n",
       "    </tr>\n",
       "  </thead>\n",
       "  <tbody>\n",
       "    <tr>\n",
       "      <th>4</th>\n",
       "      <td>Antigua and Barbuda</td>\n",
       "      <td>75.05625</td>\n",
       "      <td>9759.305728</td>\n",
       "    </tr>\n",
       "    <tr>\n",
       "      <th>5</th>\n",
       "      <td>Argentina</td>\n",
       "      <td>75.15625</td>\n",
       "      <td>6998.575103</td>\n",
       "    </tr>\n",
       "    <tr>\n",
       "      <th>7</th>\n",
       "      <td>Australia</td>\n",
       "      <td>81.81250</td>\n",
       "      <td>34637.565047</td>\n",
       "    </tr>\n",
       "    <tr>\n",
       "      <th>8</th>\n",
       "      <td>Austria</td>\n",
       "      <td>81.48125</td>\n",
       "      <td>33827.476309</td>\n",
       "    </tr>\n",
       "    <tr>\n",
       "      <th>9</th>\n",
       "      <td>Azerbaijan</td>\n",
       "      <td>70.73125</td>\n",
       "      <td>3302.947807</td>\n",
       "    </tr>\n",
       "    <tr>\n",
       "      <th>...</th>\n",
       "      <td>...</td>\n",
       "      <td>...</td>\n",
       "      <td>...</td>\n",
       "    </tr>\n",
       "    <tr>\n",
       "      <th>146</th>\n",
       "      <td>Trinidad and Tobago</td>\n",
       "      <td>71.06875</td>\n",
       "      <td>7741.748090</td>\n",
       "    </tr>\n",
       "    <tr>\n",
       "      <th>147</th>\n",
       "      <td>Tunisia</td>\n",
       "      <td>74.35625</td>\n",
       "      <td>3044.081488</td>\n",
       "    </tr>\n",
       "    <tr>\n",
       "      <th>148</th>\n",
       "      <td>Turkey</td>\n",
       "      <td>73.91250</td>\n",
       "      <td>3983.917722</td>\n",
       "    </tr>\n",
       "    <tr>\n",
       "      <th>152</th>\n",
       "      <td>United Arab Emirates</td>\n",
       "      <td>75.70000</td>\n",
       "      <td>22110.366986</td>\n",
       "    </tr>\n",
       "    <tr>\n",
       "      <th>153</th>\n",
       "      <td>Uruguay</td>\n",
       "      <td>76.07500</td>\n",
       "      <td>7192.584875</td>\n",
       "    </tr>\n",
       "  </tbody>\n",
       "</table>\n",
       "<p>79 rows × 3 columns</p>\n",
       "</div>"
      ],
      "text/plain": [
       "                  Country  Life Expectancy           GDP\n",
       "4     Antigua and Barbuda         75.05625   9759.305728\n",
       "5               Argentina         75.15625   6998.575103\n",
       "7               Australia         81.81250  34637.565047\n",
       "8                 Austria         81.48125  33827.476309\n",
       "9              Azerbaijan         70.73125   3302.947807\n",
       "..                    ...              ...           ...\n",
       "146   Trinidad and Tobago         71.06875   7741.748090\n",
       "147               Tunisia         74.35625   3044.081488\n",
       "148                Turkey         73.91250   3983.917722\n",
       "152  United Arab Emirates         75.70000  22110.366986\n",
       "153               Uruguay         76.07500   7192.584875\n",
       "\n",
       "[79 rows x 3 columns]"
      ]
     },
     "execution_count": 43,
     "metadata": {},
     "output_type": "execute_result"
    }
   ],
   "source": [
    "high_gdp_countries"
   ]
  },
  {
   "cell_type": "code",
   "execution_count": 46,
   "id": "2a8b32c9-e880-42c1-a1a0-bdaaf4e0c1ba",
   "metadata": {},
   "outputs": [],
   "source": [
    "low_gdp_quartiles = np.quantile(low_gdp_countries[\"Life Expectancy\"], [0.25, 0.5, 0.75])"
   ]
  },
  {
   "cell_type": "code",
   "execution_count": 48,
   "id": "2d019e7d-daca-4f47-8627-f3be72692e13",
   "metadata": {},
   "outputs": [
    {
     "data": {
      "text/plain": [
       "array([56.3375 , 64.34375, 71.7375 ])"
      ]
     },
     "execution_count": 48,
     "metadata": {},
     "output_type": "execute_result"
    }
   ],
   "source": [
    "low_gdp_quartiles"
   ]
  },
  {
   "cell_type": "code",
   "execution_count": 50,
   "id": "f3a4eda4-0fd1-4230-b89a-6cf28f0606ea",
   "metadata": {},
   "outputs": [],
   "source": [
    "high_gdp_quartiles = np.quantile(high_gdp_countries[\"Life Expectancy\"], [0.25, 0.5, 0.75])"
   ]
  },
  {
   "cell_type": "code",
   "execution_count": 52,
   "id": "e8454997-9b9a-4003-8025-a78f741dde96",
   "metadata": {},
   "outputs": [
    {
     "data": {
      "text/plain": [
       "array([72.965625, 75.15625 , 80.521875])"
      ]
     },
     "execution_count": 52,
     "metadata": {},
     "output_type": "execute_result"
    }
   ],
   "source": [
    "high_gdp_quartiles"
   ]
  },
  {
   "cell_type": "code",
   "execution_count": 62,
   "id": "e035940a-3360-4a5f-b23b-e961d8e8df35",
   "metadata": {},
   "outputs": [
    {
     "data": {
      "text/plain": [
       "Text(0, 0.5, 'Number of Countries')"
      ]
     },
     "execution_count": 62,
     "metadata": {},
     "output_type": "execute_result"
    },
    {
     "data": {
      "image/png": "[encoded data removed]",
      "text/plain": [
       "<Figure size 640x480 with 1 Axes>"
      ]
     },
     "metadata": {},
     "output_type": "display_data"
    }
   ],
   "source": [
    "plt.hist(high_gdp_countries[\"Life Expectancy\"], alpha=0.7, label=\"High GDP\",color='orange')\n",
    "plt.hist(low_gdp_countries[\"Life Expectancy\"], alpha=0.5, label=\"Low GDP\",color='cyan')\n",
    "plt.legend()\n",
    "plt.title(\"Life Expectancy by GDP Group\")\n",
    "plt.xlabel(\"Life Expectancy (Years)\")\n",
    "plt.ylabel(\"Number of Countries\")"
   ]
  }
 ],
 "metadata": {
  "kernelspec": {
   "display_name": "Python 3 (ipykernel)",
   "language": "python",
   "name": "python3"
  },
  "language_info": {
   "codemirror_mode": {
    "name": "ipython",
    "version": 3
   },
   "file_extension": ".py",
   "mimetype": "text/x-python",
   "name": "python",
   "nbconvert_exporter": "python",
   "pygments_lexer": "ipython3",
   "version": "3.12.7"
  }
 },
 "nbformat": 4,
 "nbformat_minor": 5
}
